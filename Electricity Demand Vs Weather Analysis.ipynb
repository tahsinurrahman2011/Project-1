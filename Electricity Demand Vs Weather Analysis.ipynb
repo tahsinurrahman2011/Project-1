{
 "cells": [
  {
   "cell_type": "markdown",
   "metadata": {},
   "source": [
    "How weather is impacting the electricity demand in Victoria?\n",
    "1.\tCheck if there is a correlation between Max temperature and Electricity demand for CITIPOWER distributor.\n",
    "H1 : When Max temperature is > T_Median electricity demand is > D_Median\n",
    "H0 : No such relationship\n",
    "\n",
    "2.\tDo the similar analysis for Rain and Solar"
   ]
  },
  {
   "cell_type": "code",
   "execution_count": 616,
   "metadata": {},
   "outputs": [],
   "source": [
    "import pandas as pd\n",
    "import datetime\n",
    "import glob\n",
    "import calendar\n",
    "import matplotlib.pyplot as plt\n",
    "import scipy.stats as st"
   ]
  },
  {
   "cell_type": "code",
   "execution_count": 617,
   "metadata": {},
   "outputs": [],
   "source": [
    "def refactor_weather_data(bomDF,year):    \n",
    "    dateslist = pd.date_range(start=f'1/1/{year}', end=f'31/12/{year}')\n",
    "    weatherlist  = bomDF['Jan'].tolist()\n",
    "    if calendar.isleap(year):\n",
    "        weatherlist = weatherlist + bomDF['Feb'].tolist()[0:29]\n",
    "    else:\n",
    "        weatherlist = weatherlist + bomDF['Feb'].tolist()[0:28]          \n",
    "    weatherlist = weatherlist + bomDF['Mar'].tolist() + bomDF['Apr'].tolist()[0:30] + bomDF['May'].tolist() + bomDF['Jun'].tolist()[0:30] + bomDF['Jul'].tolist() + bomDF['Aug'].tolist() + bomDF['Sep'].tolist()[0:30] + bomDF['Oct'].tolist() + bomDF['Nov'].tolist()[0:30] + bomDF['Dec'].tolist()\n",
    "\n",
    "    weatherDF = pd.DataFrame({'Date': dateslist, 'Measure': weatherlist})\n",
    "    return weatherDF\n"
   ]
  },
  {
   "cell_type": "code",
   "execution_count": 618,
   "metadata": {},
   "outputs": [
    {
     "data": {
      "text/html": [
       "<div>\n",
       "<style scoped>\n",
       "    .dataframe tbody tr th:only-of-type {\n",
       "        vertical-align: middle;\n",
       "    }\n",
       "\n",
       "    .dataframe tbody tr th {\n",
       "        vertical-align: top;\n",
       "    }\n",
       "\n",
       "    .dataframe thead th {\n",
       "        text-align: right;\n",
       "    }\n",
       "</style>\n",
       "<table border=\"1\" class=\"dataframe\">\n",
       "  <thead>\n",
       "    <tr style=\"text-align: right;\">\n",
       "      <th></th>\n",
       "      <th>Measure_Date</th>\n",
       "      <th>Measure</th>\n",
       "      <th>Distributor</th>\n",
       "      <th>MeasurementType</th>\n",
       "    </tr>\n",
       "  </thead>\n",
       "  <tbody>\n",
       "    <tr>\n",
       "      <th>0</th>\n",
       "      <td>2015-01-01</td>\n",
       "      <td>26.2</td>\n",
       "      <td>AusNet</td>\n",
       "      <td>MaxTemp</td>\n",
       "    </tr>\n",
       "    <tr>\n",
       "      <th>1</th>\n",
       "      <td>2015-01-02</td>\n",
       "      <td>32.5</td>\n",
       "      <td>AusNet</td>\n",
       "      <td>MaxTemp</td>\n",
       "    </tr>\n",
       "    <tr>\n",
       "      <th>2</th>\n",
       "      <td>2015-01-03</td>\n",
       "      <td>38.9</td>\n",
       "      <td>AusNet</td>\n",
       "      <td>MaxTemp</td>\n",
       "    </tr>\n",
       "    <tr>\n",
       "      <th>3</th>\n",
       "      <td>2015-01-04</td>\n",
       "      <td>25.4</td>\n",
       "      <td>AusNet</td>\n",
       "      <td>MaxTemp</td>\n",
       "    </tr>\n",
       "    <tr>\n",
       "      <th>4</th>\n",
       "      <td>2015-01-05</td>\n",
       "      <td>27.3</td>\n",
       "      <td>AusNet</td>\n",
       "      <td>MaxTemp</td>\n",
       "    </tr>\n",
       "  </tbody>\n",
       "</table>\n",
       "</div>"
      ],
      "text/plain": [
       "  Measure_Date  Measure Distributor MeasurementType\n",
       "0   2015-01-01     26.2      AusNet         MaxTemp\n",
       "1   2015-01-02     32.5      AusNet         MaxTemp\n",
       "2   2015-01-03     38.9      AusNet         MaxTemp\n",
       "3   2015-01-04     25.4      AusNet         MaxTemp\n",
       "4   2015-01-05     27.3      AusNet         MaxTemp"
      ]
     },
     "execution_count": 618,
     "metadata": {},
     "output_type": "execute_result"
    }
   ],
   "source": [
    "\n",
    "dir = 'BOM/Resources/Weather/_*.csv'\n",
    "files = glob.glob(dir)\n",
    "weatherDF = pd.DataFrame()\n",
    "for f in files:\n",
    "    filenamelist = f.split(\"_\")\n",
    "    df = refactor_weather_data(pd.read_csv(f),int(filenamelist[2]))\n",
    "    df['Distributor'] = filenamelist[1] \n",
    "    if filenamelist[3] == '122':\n",
    "        df['MeasurementType'] = 'MaxTemp'\n",
    "    elif filenamelist[3] == '123':\n",
    "        df['MeasurementType'] = 'MinTemp'\n",
    "    elif filenamelist[3] == '136':\n",
    "        df['MeasurementType'] = 'Rain Fall'\n",
    "    elif filenamelist[3] == '193':\n",
    "        df['MeasurementType'] = 'Solar Exposure'          \n",
    "    weatherDF = weatherDF.append(df,ignore_index=True)\n",
    "weatherDF.to_csv('BOM/Resources/Weather/weather.csv')\n",
    "\n",
    "weatherDF[\"Measure\"] = weatherDF['Measure'].apply(cleanWeatherData)\n",
    "weatherDF = weatherDF.rename(columns={\"Date\": \"Measure_Date\"})\n",
    "weatherDF.tail()\n",
    "weatherDF['Measure_Date'] =  pd.to_datetime(weatherDF['Measure_Date'], format=\"%Y/%m/%d\")\n",
    "weatherDF.head()"
   ]
  },
  {
   "cell_type": "code",
   "execution_count": 619,
   "metadata": {},
   "outputs": [],
   "source": [
    "# data cleansing of measure column\n",
    "def cleanWeatherData(measure):\n",
    "    para = str(measure)\n",
    "    res = '0'\n",
    "    if para == '↓':\n",
    "        res = '0'\n",
    "    elif ' days' in para:        \n",
    "        res = para[:-4]\n",
    "    else:\n",
    "        res = para\n",
    "    return float(res)"
   ]
  },
  {
   "cell_type": "code",
   "execution_count": 620,
   "metadata": {},
   "outputs": [
    {
     "data": {
      "text/html": [
       "<div>\n",
       "<style scoped>\n",
       "    .dataframe tbody tr th:only-of-type {\n",
       "        vertical-align: middle;\n",
       "    }\n",
       "\n",
       "    .dataframe tbody tr th {\n",
       "        vertical-align: top;\n",
       "    }\n",
       "\n",
       "    .dataframe thead th {\n",
       "        text-align: right;\n",
       "    }\n",
       "</style>\n",
       "<table border=\"1\" class=\"dataframe\">\n",
       "  <thead>\n",
       "    <tr style=\"text-align: right;\">\n",
       "      <th></th>\n",
       "      <th>Measure_Date</th>\n",
       "      <th>Distributor</th>\n",
       "      <th>Daily_Demand</th>\n",
       "      <th>Business_Demand</th>\n",
       "      <th>Non_Business_Demand</th>\n",
       "    </tr>\n",
       "  </thead>\n",
       "  <tbody>\n",
       "    <tr>\n",
       "      <th>0</th>\n",
       "      <td>2015-01-01</td>\n",
       "      <td>CITIPOWER</td>\n",
       "      <td>3640095.729</td>\n",
       "      <td>1554433</td>\n",
       "      <td>2085662</td>\n",
       "    </tr>\n",
       "    <tr>\n",
       "      <th>1</th>\n",
       "      <td>2015-01-02</td>\n",
       "      <td>CITIPOWER</td>\n",
       "      <td>5323070.506</td>\n",
       "      <td>2494996</td>\n",
       "      <td>2828074</td>\n",
       "    </tr>\n",
       "    <tr>\n",
       "      <th>2</th>\n",
       "      <td>2015-01-03</td>\n",
       "      <td>CITIPOWER</td>\n",
       "      <td>6340175.938</td>\n",
       "      <td>0</td>\n",
       "      <td>6340175</td>\n",
       "    </tr>\n",
       "    <tr>\n",
       "      <th>3</th>\n",
       "      <td>2015-01-04</td>\n",
       "      <td>CITIPOWER</td>\n",
       "      <td>4166689.963</td>\n",
       "      <td>0</td>\n",
       "      <td>4166689</td>\n",
       "    </tr>\n",
       "    <tr>\n",
       "      <th>4</th>\n",
       "      <td>2015-01-05</td>\n",
       "      <td>CITIPOWER</td>\n",
       "      <td>4692296.654</td>\n",
       "      <td>2360233</td>\n",
       "      <td>2332063</td>\n",
       "    </tr>\n",
       "  </tbody>\n",
       "</table>\n",
       "</div>"
      ],
      "text/plain": [
       "  Measure_Date Distributor  Daily_Demand  Business_Demand  Non_Business_Demand\n",
       "0   2015-01-01   CITIPOWER   3640095.729          1554433              2085662\n",
       "1   2015-01-02   CITIPOWER   5323070.506          2494996              2828074\n",
       "2   2015-01-03   CITIPOWER   6340175.938                0              6340175\n",
       "3   2015-01-04   CITIPOWER   4166689.963                0              4166689\n",
       "4   2015-01-05   CITIPOWER   4692296.654          2360233              2332063"
      ]
     },
     "execution_count": 620,
     "metadata": {},
     "output_type": "execute_result"
    }
   ],
   "source": [
    "# Load the processed demand data from Electricity Demand Analysis 'Meter data/Demand.csv'\n",
    "\n",
    "demand_df = pd.read_csv('Meter data/Demand.csv')\n",
    "demand_df['Measure_Date'] =  pd.to_datetime(demand_df['Measure_Date'], format=\"%Y/%m/%d\")\n",
    "demand_df = demand_df.loc[demand_df.Measure_Date >= '2015-01-01']\n",
    "demand_df.reset_index(drop=True, inplace=True)\n",
    "demand_df.head()    "
   ]
  },
  {
   "cell_type": "code",
   "execution_count": 621,
   "metadata": {},
   "outputs": [],
   "source": [
    "Vicdemand_df = demand_df.groupby(['Measure_Date']).agg({'Daily_Demand': \"sum\",'Business_Demand': \"sum\",'Non_Business_Demand': \"sum\"})\n",
    "VicdemandDaily_df = pd.DataFrame(Vicdemand_df['Daily_Demand']/1000000)\n",
    "VicdemandDaily_df = VicdemandDaily_df.rename(columns={\"Daily_Demand\": \"Daily_Demand (GWh)\"})\n",
    "VicdemandDaily_df = VicdemandDaily_df"
   ]
  },
  {
   "cell_type": "code",
   "execution_count": 622,
   "metadata": {},
   "outputs": [
    {
     "data": {
      "text/html": [
       "<div>\n",
       "<style scoped>\n",
       "    .dataframe tbody tr th:only-of-type {\n",
       "        vertical-align: middle;\n",
       "    }\n",
       "\n",
       "    .dataframe tbody tr th {\n",
       "        vertical-align: top;\n",
       "    }\n",
       "\n",
       "    .dataframe thead th {\n",
       "        text-align: right;\n",
       "    }\n",
       "</style>\n",
       "<table border=\"1\" class=\"dataframe\">\n",
       "  <thead>\n",
       "    <tr style=\"text-align: right;\">\n",
       "      <th></th>\n",
       "      <th>Daily_Demand (GWh)</th>\n",
       "      <th>Measure</th>\n",
       "    </tr>\n",
       "    <tr>\n",
       "      <th>Measure_Date</th>\n",
       "      <th></th>\n",
       "      <th></th>\n",
       "    </tr>\n",
       "  </thead>\n",
       "  <tbody>\n",
       "    <tr>\n",
       "      <th>2015-01-01</th>\n",
       "      <td>28.756751</td>\n",
       "      <td>26.78</td>\n",
       "    </tr>\n",
       "    <tr>\n",
       "      <th>2015-01-02</th>\n",
       "      <td>44.726836</td>\n",
       "      <td>38.02</td>\n",
       "    </tr>\n",
       "    <tr>\n",
       "      <th>2015-01-03</th>\n",
       "      <td>54.763326</td>\n",
       "      <td>38.82</td>\n",
       "    </tr>\n",
       "    <tr>\n",
       "      <th>2015-01-04</th>\n",
       "      <td>31.517862</td>\n",
       "      <td>23.44</td>\n",
       "    </tr>\n",
       "    <tr>\n",
       "      <th>2015-01-05</th>\n",
       "      <td>32.255049</td>\n",
       "      <td>25.02</td>\n",
       "    </tr>\n",
       "  </tbody>\n",
       "</table>\n",
       "</div>"
      ],
      "text/plain": [
       "              Daily_Demand (GWh)  Measure\n",
       "Measure_Date                             \n",
       "2015-01-01             28.756751    26.78\n",
       "2015-01-02             44.726836    38.02\n",
       "2015-01-03             54.763326    38.82\n",
       "2015-01-04             31.517862    23.44\n",
       "2015-01-05             32.255049    25.02"
      ]
     },
     "execution_count": 622,
     "metadata": {},
     "output_type": "execute_result"
    }
   ],
   "source": [
    "MaxTempDF = weatherDF.loc[weatherDF.MeasurementType == 'MaxTemp']\n",
    "MaxTempDF = MaxTempDF.loc[((MaxTempDF.Measure_Date >= '2015-01-01') & (MaxTempDF.Measure_Date < '2019-07-01'))]\n",
    "MaxTempDF = MaxTempDF.groupby(['Measure_Date']).agg({'Measure': 'mean'})\n",
    "\n",
    "VicDailyDemand_MaxTemp = VicdemandDaily_df.merge(MaxTempDF, left_index=True, right_index=True)\n",
    "VicDailyDemand_MaxTemp.dropna(inplace=True)\n",
    "VicDailyDemand_MaxTemp.head()"
   ]
  },
  {
   "cell_type": "code",
   "execution_count": null,
   "metadata": {},
   "outputs": [],
   "source": []
  },
  {
   "cell_type": "code",
   "execution_count": 623,
   "metadata": {},
   "outputs": [
    {
     "data": {
      "image/png": "[encoded data removed]",
      "text/plain": [
       "<Figure size 432x288 with 1 Axes>"
      ]
     },
     "metadata": {
      "needs_background": "light"
     },
     "output_type": "display_data"
    }
   ],
   "source": [
    "\n",
    "plt.scatter(VicDailyDemand_MaxTemp['Measure'], VicDailyDemand_MaxTemp['Daily_Demand (GWh)'])\n",
    "plt.xlabel(\"Max Temperature (C)\")\n",
    "plt.ylabel(\"Electricity Demand (GWh)\")\n",
    "plt.title(\"Victoria Electricity Demand Vs Max Temperature\")\n",
    "plt.show()"
   ]
  },
  {
   "cell_type": "code",
   "execution_count": 624,
   "metadata": {},
   "outputs": [
    {
     "data": {
      "text/html": [
       "<div>\n",
       "<style scoped>\n",
       "    .dataframe tbody tr th:only-of-type {\n",
       "        vertical-align: middle;\n",
       "    }\n",
       "\n",
       "    .dataframe tbody tr th {\n",
       "        vertical-align: top;\n",
       "    }\n",
       "\n",
       "    .dataframe thead th {\n",
       "        text-align: right;\n",
       "    }\n",
       "</style>\n",
       "<table border=\"1\" class=\"dataframe\">\n",
       "  <thead>\n",
       "    <tr style=\"text-align: right;\">\n",
       "      <th></th>\n",
       "      <th>Daily_Demand (GWh)</th>\n",
       "      <th>Measure</th>\n",
       "    </tr>\n",
       "    <tr>\n",
       "      <th>Measure_Date</th>\n",
       "      <th></th>\n",
       "      <th></th>\n",
       "    </tr>\n",
       "  </thead>\n",
       "  <tbody>\n",
       "    <tr>\n",
       "      <th>2015-01-01</th>\n",
       "      <td>28.756751</td>\n",
       "      <td>22.90</td>\n",
       "    </tr>\n",
       "    <tr>\n",
       "      <th>2015-01-02</th>\n",
       "      <td>44.726836</td>\n",
       "      <td>28.18</td>\n",
       "    </tr>\n",
       "    <tr>\n",
       "      <th>2015-01-03</th>\n",
       "      <td>54.763326</td>\n",
       "      <td>26.16</td>\n",
       "    </tr>\n",
       "    <tr>\n",
       "      <th>2015-01-04</th>\n",
       "      <td>31.517862</td>\n",
       "      <td>25.84</td>\n",
       "    </tr>\n",
       "    <tr>\n",
       "      <th>2015-01-05</th>\n",
       "      <td>32.255049</td>\n",
       "      <td>28.62</td>\n",
       "    </tr>\n",
       "  </tbody>\n",
       "</table>\n",
       "</div>"
      ],
      "text/plain": [
       "              Daily_Demand (GWh)  Measure\n",
       "Measure_Date                             \n",
       "2015-01-01             28.756751    22.90\n",
       "2015-01-02             44.726836    28.18\n",
       "2015-01-03             54.763326    26.16\n",
       "2015-01-04             31.517862    25.84\n",
       "2015-01-05             32.255049    28.62"
      ]
     },
     "execution_count": 624,
     "metadata": {},
     "output_type": "execute_result"
    }
   ],
   "source": [
    "SolarDF = weatherDF.loc[weatherDF.MeasurementType == 'Solar Exposure']\n",
    "SolarDF = SolarDF.loc[((SolarDF.Measure_Date >= '2015-01-01') & (SolarDF.Measure_Date < '2019-07-01'))]\n",
    "SolarDF = SolarDF.groupby(['Measure_Date']).agg({'Measure': 'mean'})\n",
    "\n",
    "VicDailyDemand_SolarDF = VicdemandDaily_df.merge(SolarDF, left_index=True, right_index=True)\n",
    "VicDailyDemand_SolarDF.dropna(inplace=True)\n",
    "VicDailyDemand_SolarDF.head()"
   ]
  },
  {
   "cell_type": "code",
   "execution_count": 625,
   "metadata": {},
   "outputs": [
    {
     "name": "stdout",
     "output_type": "stream",
     "text": [
      "The correlation between both factors is -0.43\n"
     ]
    },
    {
     "data": {
      "image/png": "[encoded data removed]",
      "text/plain": [
       "<Figure size 432x288 with 1 Axes>"
      ]
     },
     "metadata": {
      "needs_background": "light"
     },
     "output_type": "display_data"
    }
   ],
   "source": [
    "x_values = VicDailyDemand_SolarDF['Measure']\n",
    "y_values = VicDailyDemand_SolarDF['Daily_Demand (GWh)']\n",
    "correlation = st.pearsonr(x_values,y_values)\n",
    "print(f\"The correlation between both factors is {round(correlation[0],2)}\")\n",
    "\n",
    "(slope, intercept, rvalue, pvalue, stderr) = st.linregress(x_values, y_values)\n",
    "regress_values = x_values * slope + intercept\n",
    "\n",
    "plt.scatter(x_values,y_values)\n",
    "plt.plot(x_values,regress_values,\"r-\")\n",
    "plt.xlabel(\"Solar Exposure (MJ m-2)\")\n",
    "plt.ylabel(\"Electricity Demand (GWh)\")\n",
    "plt.title(\"Victoria Electricity Demand Vs Solar Exposure with Regression\")\n",
    "plt.show()"
   ]
  },
  {
   "cell_type": "code",
   "execution_count": 626,
   "metadata": {},
   "outputs": [
    {
     "data": {
      "text/html": [
       "<div>\n",
       "<style scoped>\n",
       "    .dataframe tbody tr th:only-of-type {\n",
       "        vertical-align: middle;\n",
       "    }\n",
       "\n",
       "    .dataframe tbody tr th {\n",
       "        vertical-align: top;\n",
       "    }\n",
       "\n",
       "    .dataframe thead th {\n",
       "        text-align: right;\n",
       "    }\n",
       "</style>\n",
       "<table border=\"1\" class=\"dataframe\">\n",
       "  <thead>\n",
       "    <tr style=\"text-align: right;\">\n",
       "      <th></th>\n",
       "      <th>Daily_Demand (GWh)</th>\n",
       "      <th>Measure</th>\n",
       "    </tr>\n",
       "    <tr>\n",
       "      <th>Measure_Date</th>\n",
       "      <th></th>\n",
       "      <th></th>\n",
       "    </tr>\n",
       "  </thead>\n",
       "  <tbody>\n",
       "    <tr>\n",
       "      <th>2015-01-01</th>\n",
       "      <td>28.756751</td>\n",
       "      <td>0.00</td>\n",
       "    </tr>\n",
       "    <tr>\n",
       "      <th>2015-01-02</th>\n",
       "      <td>44.726836</td>\n",
       "      <td>0.00</td>\n",
       "    </tr>\n",
       "    <tr>\n",
       "      <th>2015-01-03</th>\n",
       "      <td>54.763326</td>\n",
       "      <td>0.00</td>\n",
       "    </tr>\n",
       "    <tr>\n",
       "      <th>2015-01-04</th>\n",
       "      <td>31.517862</td>\n",
       "      <td>5.52</td>\n",
       "    </tr>\n",
       "    <tr>\n",
       "      <th>2015-01-05</th>\n",
       "      <td>32.255049</td>\n",
       "      <td>0.08</td>\n",
       "    </tr>\n",
       "  </tbody>\n",
       "</table>\n",
       "</div>"
      ],
      "text/plain": [
       "              Daily_Demand (GWh)  Measure\n",
       "Measure_Date                             \n",
       "2015-01-01             28.756751     0.00\n",
       "2015-01-02             44.726836     0.00\n",
       "2015-01-03             54.763326     0.00\n",
       "2015-01-04             31.517862     5.52\n",
       "2015-01-05             32.255049     0.08"
      ]
     },
     "execution_count": 626,
     "metadata": {},
     "output_type": "execute_result"
    }
   ],
   "source": [
    "RainDF = weatherDF.loc[weatherDF.MeasurementType == 'Rain Fall']\n",
    "RainDF = RainDF.loc[((RainDF.Measure_Date >= '2015-01-01') & (RainDF.Measure_Date < '2019-07-01'))]\n",
    "RainDF = RainDF.groupby(['Measure_Date']).agg({'Measure': 'mean'})\n",
    "\n",
    "VicDailyDemand_RainDF = VicdemandDaily_df.merge(RainDF, left_index=True, right_index=True)\n",
    "VicDailyDemand_RainDF.head()"
   ]
  },
  {
   "cell_type": "code",
   "execution_count": 627,
   "metadata": {},
   "outputs": [
    {
     "name": "stdout",
     "output_type": "stream",
     "text": [
      "The correlation between both factors is 0.04\n"
     ]
    },
    {
     "data": {
      "image/png": "[encoded data removed]",
      "text/plain": [
       "<Figure size 432x288 with 1 Axes>"
      ]
     },
     "metadata": {
      "needs_background": "light"
     },
     "output_type": "display_data"
    }
   ],
   "source": [
    "x_values = VicDailyDemand_RainDF['Measure']\n",
    "y_values = VicDailyDemand_RainDF['Daily_Demand (GWh)']\n",
    "correlation = st.pearsonr(x_values,y_values)\n",
    "print(f\"The correlation between both factors is {round(correlation[0],2)}\")\n",
    "\n",
    "(slope, intercept, rvalue, pvalue, stderr) = st.linregress(x_values, y_values)\n",
    "regress_values = x_values * slope + intercept\n",
    "\n",
    "plt.scatter(x_values,y_values)\n",
    "plt.plot(x_values,regress_values,\"r-\")\n",
    "plt.xlabel(\"Rain Fall (mm)\")\n",
    "plt.ylabel(\"Electricity Demand (GWh)\")\n",
    "plt.title(\"Victoria Electricity Demand Vs Rain Fall With Regression\")\n",
    "plt.show()"
   ]
  },
  {
   "cell_type": "code",
   "execution_count": null,
   "metadata": {},
   "outputs": [],
   "source": []
  }
 ],
 "metadata": {
  "kernelspec": {
   "display_name": "Python 3",
   "language": "python",
   "name": "python3"
  },
  "language_info": {
   "codemirror_mode": {
    "name": "ipython",
    "version": 3
   },
   "file_extension": ".py",
   "mimetype": "text/x-python",
   "name": "python",
   "nbconvert_exporter": "python",
   "pygments_lexer": "ipython3",
   "version": "3.6.10"
  }
 },
 "nbformat": 4,
 "nbformat_minor": 4
}
