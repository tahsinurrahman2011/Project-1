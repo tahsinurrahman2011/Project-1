{
 "cells": [
  {
   "cell_type": "markdown",
   "metadata": {},
   "source": [
    "How weather is impacting the electricity demand in Victoria?\n",
    "1.\tCheck if there is a correlation between Max temperature and Electricity demand for CITIPOWER distributor.\n",
    "H1 : When Max temperature is > T_Median electricity demand is > D_Median\n",
    "H0 : No such relationship\n",
    "\n",
    "2.\tDo the similar analysis for Rain and Solar"
   ]
  },
  {
   "cell_type": "code",
   "execution_count": 76,
   "metadata": {},
   "outputs": [],
   "source": [
    "import pandas as pd\n",
    "import dask.dataframe as dd\n",
    "import datetime\n",
    "import glob"
   ]
  },
  {
   "cell_type": "code",
   "execution_count": 77,
   "metadata": {},
   "outputs": [],
   "source": [
    "def refactor_weather_data(bomDF,year):    \n",
    "    dateslist = pd.date_range(start=f'1/1/{year}', end=f'31/12/{year}')\n",
    "    weatherlist  = bomDF['Jan'].tolist()\n",
    "    if isleapyear(year):\n",
    "        weatherlist = weatherlist + bomDF['Feb'].tolist()[0:29]\n",
    "    else:\n",
    "        weatherlist = weatherlist + bomDF['Feb'].tolist()[0:28]          \n",
    "    weatherlist = weatherlist + bomDF['Mar'].tolist() + bomDF['Apr'].tolist()[0:30] + bomDF['May'].tolist() + bomDF['Jun'].tolist()[0:30] + bomDF['Jul'].tolist() + bomDF['Aug'].tolist() + bomDF['Sep'].tolist()[0:30] + bomDF['Oct'].tolist() + bomDF['Nov'].tolist()[0:30] + bomDF['Dec'].tolist()\n",
    "\n",
    "    weatherDF = pd.DataFrame({'Date': dateslist, 'Measure': weatherlist})\n",
    "    return weatherDF\n"
   ]
  },
  {
   "cell_type": "code",
   "execution_count": 78,
   "metadata": {},
   "outputs": [],
   "source": [
    "def isleapyear(n):\n",
    "    if n%4==0 and n%100!=0:\n",
    "        if n%400==0:\n",
    "            return True\n",
    "    elif n%4!=0:\n",
    "        return False\n",
    "    \n"
   ]
  },
  {
   "cell_type": "code",
   "execution_count": 79,
   "metadata": {},
   "outputs": [],
   "source": [
    "\n",
    "dir = 'BOM/Resources/Weather/_*.csv'\n",
    "files = glob.glob(dir)\n",
    "weatherDF = pd.DataFrame()\n",
    "for f in files:\n",
    "    filenamelist = f.split(\"_\")\n",
    "    df = refactor_weather_data(pd.read_csv(f),int(filenamelist[2]))\n",
    "    df['Distributor'] = filenamelist[1] \n",
    "    if filenamelist[3] == '122':\n",
    "        df['MeasurementType'] = 'MaxTemp'\n",
    "    elif filenamelist[3] == '123':\n",
    "        df['MeasurementType'] = 'MinTemp'\n",
    "    elif filenamelist[3] == '136':\n",
    "        df['MeasurementType'] = 'Rain Fall'\n",
    "    elif filenamelist[3] == '193':\n",
    "        df['MeasurementType'] = 'Solar Exposure'          \n",
    "    weatherDF = weatherDF.append(df,ignore_index=True)\n",
    "weatherDF.to_csv('BOM/Resources/Weather/weather.csv')"
   ]
  },
  {
   "cell_type": "code",
   "execution_count": null,
   "metadata": {},
   "outputs": [],
   "source": []
  }
 ],
 "metadata": {
  "kernelspec": {
   "display_name": "Python 3",
   "language": "python",
   "name": "python3"
  },
  "language_info": {
   "codemirror_mode": {
    "name": "ipython",
    "version": 3
   },
   "file_extension": ".py",
   "mimetype": "text/x-python",
   "name": "python",
   "nbconvert_exporter": "python",
   "pygments_lexer": "ipython3",
   "version": "3.6.10"
  }
 },
 "nbformat": 4,
 "nbformat_minor": 4
}
