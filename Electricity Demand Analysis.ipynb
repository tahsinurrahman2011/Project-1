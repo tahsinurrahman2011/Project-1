{
 "cells": [
  {
   "cell_type": "markdown",
   "metadata": {},
   "source": [
    "Business Problem\n",
    "Which geographical areas in Victoria have highest electricity demand and demand growth to define the marketing strategy? \n"
   ]
  },
  {
   "cell_type": "code",
   "execution_count": 218,
   "metadata": {},
   "outputs": [],
   "source": [
    "import pandas as pd\n",
    "import glob\n",
    "import numpy as np\n",
    "import matplotlib.pyplot as plt"
   ]
  },
  {
   "cell_type": "code",
   "execution_count": 219,
   "metadata": {},
   "outputs": [],
   "source": [
    "const_citipower = 'CitiPower'\n",
    "const_jemena = 'Jemena'\n",
    "const_powercor = 'Powercor'\n",
    "const_ausnet = 'AusNet'\n",
    "const_united = 'United'"
   ]
  },
  {
   "cell_type": "code",
   "execution_count": 220,
   "metadata": {},
   "outputs": [],
   "source": [
    "# Load all demand data from 2014 to 2019\n",
    "# demand_df = dd.read_csv('Meter data\\VIC_20*.csv')\n",
    "# demand_df.head()\n",
    "\n",
    "dir = 'Meter data/VIC_20*.csv'\n",
    "files = glob.glob(dir)\n",
    "demand_df = pd.DataFrame()\n",
    "for f in files:\n",
    "    df = pd.read_csv(f)\n",
    "    demand_df = demand_df.append(df,ignore_index=True) "
   ]
  },
  {
   "cell_type": "code",
   "execution_count": 221,
   "metadata": {},
   "outputs": [],
   "source": [
    "\n",
    "demand_df['SETTD'] =  pd.to_datetime(demand_df['SETTD'], format=\"%d/%m/%Y\")"
   ]
  },
  {
   "cell_type": "code",
   "execution_count": 222,
   "metadata": {},
   "outputs": [],
   "source": [
    "req_colms = ['DAILYT', 'VAL01', 'VAL02', 'VAL03', 'VAL04', 'VAL05', 'VAL06', 'VAL07', 'VAL08', 'VAL09', 'VAL10', 'VAL11', \n",
    "             'VAL12', 'VAL13', 'VAL14', 'VAL15', 'VAL16', 'VAL17', 'VAL18', 'VAL19', 'VAL20', 'VAL21', 'VAL22', 'VAL23', \n",
    "             'VAL24', 'VAL25', 'VAL26', 'VAL27', 'VAL28','VAL29', 'VAL30', 'VAL31', 'VAL32', 'VAL33', 'VAL34', 'VAL35', \n",
    "             'VAL36','VAL37', 'VAL38', 'VAL39', 'VAL40', 'VAL41', 'VAL42', 'VAL43', 'VAL44','VAL45', 'VAL46', 'VAL47', 'VAL48']\n",
    "\n",
    "demand_df[req_colms] = demand_df[req_colms].astype('float64')\n"
   ]
  },
  {
   "cell_type": "code",
   "execution_count": 223,
   "metadata": {},
   "outputs": [],
   "source": [
    "demand_df['Business_Demand'] = 0\n",
    "demand_df['Non_Business_Demand'] = 0\n",
    "\n",
    "for i, dailyDemand in demand_df.iterrows():\n",
    "    d = dailyDemand['SETTD'].weekday()\n",
    "    if((d == 5) or (d == 6)):\n",
    "        demand_df.at[i,'Non_Business_Demand'] = dailyDemand['DAILYT']\n",
    "        demand_df.at[i,'Business_Demand'] = 0\n",
    "    else:\n",
    "        demand_df.at[i,'Business_Demand'] = dailyDemand['VAL15'] + dailyDemand['VAL16'] + dailyDemand['VAL17'] + dailyDemand['VAL18'] + \\\n",
    "        dailyDemand['VAL19'] + dailyDemand['VAL20'] + dailyDemand['VAL21'] + dailyDemand['VAL22'] + dailyDemand['VAL23'] + dailyDemand['VAL24'] + \\\n",
    "        dailyDemand['VAL25'] + dailyDemand['VAL26'] + dailyDemand['VAL27'] + dailyDemand['VAL28'] + dailyDemand['VAL29'] + dailyDemand['VAL30'] + \\\n",
    "        dailyDemand['VAL31'] + dailyDemand['VAL32'] + dailyDemand['VAL33'] + dailyDemand['VAL34']\n",
    "        \n",
    "        demand_df.at[i,'Non_Business_Demand'] = dailyDemand['DAILYT'] - demand_df.at[i,'Business_Demand']\n",
    "\n",
    "demand_df = demand_df[['SETTD','PROFILEAREA','DAILYT','Business_Demand', 'Non_Business_Demand']]\n",
    "demand_df = demand_df.rename(columns={\"SETTD\": \"Measure_Date\", \"PROFILEAREA\": \"Distributor\", \"DAILYT\": \"Daily_Demand\"})"
   ]
  },
  {
   "cell_type": "code",
   "execution_count": 224,
   "metadata": {},
   "outputs": [],
   "source": [
    "def mapDistributorName(dist):\n",
    "    db = ''\n",
    "    if dist == 'CITIPOWER':\n",
    "        db = const_citipower\n",
    "    elif dist == 'VICAGL':        \n",
    "        db = const_jemena\n",
    "    elif dist == 'POWERCOR':        \n",
    "        db = const_powercor\n",
    "    elif dist == 'TXU':        \n",
    "        db = const_ausnet\n",
    "    elif dist == 'UNITED':        \n",
    "        db = const_united       \n",
    "    return db"
   ]
  },
  {
   "cell_type": "code",
   "execution_count": 225,
   "metadata": {},
   "outputs": [],
   "source": [
    "demand_df[\"Distributor\"] = demand_df['Distributor'].apply(mapDistributorName)\n",
    "demand_df.to_csv('Meter data/Demand.csv', encoding='utf-8', index = False)"
   ]
  },
  {
   "cell_type": "code",
   "execution_count": 226,
   "metadata": {},
   "outputs": [
    {
     "data": {
      "text/html": [
       "<div>\n",
       "<style scoped>\n",
       "    .dataframe tbody tr th:only-of-type {\n",
       "        vertical-align: middle;\n",
       "    }\n",
       "\n",
       "    .dataframe tbody tr th {\n",
       "        vertical-align: top;\n",
       "    }\n",
       "\n",
       "    .dataframe thead th {\n",
       "        text-align: right;\n",
       "    }\n",
       "</style>\n",
       "<table border=\"1\" class=\"dataframe\">\n",
       "  <thead>\n",
       "    <tr style=\"text-align: right;\">\n",
       "      <th></th>\n",
       "      <th>Total_Demand 2019 (GWh)</th>\n",
       "    </tr>\n",
       "    <tr>\n",
       "      <th>Distributor</th>\n",
       "      <th></th>\n",
       "    </tr>\n",
       "  </thead>\n",
       "  <tbody>\n",
       "    <tr>\n",
       "      <th>AusNet</th>\n",
       "      <td>3835.008990</td>\n",
       "    </tr>\n",
       "    <tr>\n",
       "      <th>CitiPower</th>\n",
       "      <td>2047.161158</td>\n",
       "    </tr>\n",
       "    <tr>\n",
       "      <th>Jemena</th>\n",
       "      <td>1658.313100</td>\n",
       "    </tr>\n",
       "    <tr>\n",
       "      <th>Powercor</th>\n",
       "      <td>4512.949229</td>\n",
       "    </tr>\n",
       "    <tr>\n",
       "      <th>United</th>\n",
       "      <td>3370.957059</td>\n",
       "    </tr>\n",
       "  </tbody>\n",
       "</table>\n",
       "</div>"
      ],
      "text/plain": [
       "             Total_Demand 2019 (GWh)\n",
       "Distributor                         \n",
       "AusNet                   3835.008990\n",
       "CitiPower                2047.161158\n",
       "Jemena                   1658.313100\n",
       "Powercor                 4512.949229\n",
       "United                   3370.957059"
      ]
     },
     "execution_count": 226,
     "metadata": {},
     "output_type": "execute_result"
    }
   ],
   "source": [
    "annualDemand2019DF = demand_df.loc[((demand_df.Measure_Date >= '2018-07-01') & (demand_df.Measure_Date < '2019-07-01'))]\n",
    "demandDBGroup2019DF = annualDemand2019DF.groupby(['Distributor']).agg({'Daily_Demand':'sum'}) \n",
    "demandDBGroup2019DF = pd.DataFrame(demandDBGroup2019DF['Daily_Demand']/1000000)\n",
    "demandDBGroup2019DF = demandDBGroup2019DF.rename(columns={\"Daily_Demand\" : \"Total_Demand 2019 (GWh)\"})\n",
    "demandDBGroup2019DF"
   ]
  },
  {
   "cell_type": "code",
   "execution_count": 227,
   "metadata": {},
   "outputs": [
    {
     "data": {
      "image/png": "[encoded data removed]",
      "text/plain": [
       "<Figure size 540x540 with 1 Axes>"
      ]
     },
     "metadata": {},
     "output_type": "display_data"
    }
   ],
   "source": [
    "\n",
    "plot = demandDBGroup2019DF.plot(kind = \"pie\" ,y='Total_Demand 2019 (GWh)', figsize=(7.5, 7.5), title =\"Electricity Demand For Distributors 2019\" )"
   ]
  },
  {
   "cell_type": "code",
   "execution_count": 228,
   "metadata": {},
   "outputs": [
    {
     "data": {
      "text/html": [
       "<div>\n",
       "<style scoped>\n",
       "    .dataframe tbody tr th:only-of-type {\n",
       "        vertical-align: middle;\n",
       "    }\n",
       "\n",
       "    .dataframe tbody tr th {\n",
       "        vertical-align: top;\n",
       "    }\n",
       "\n",
       "    .dataframe thead th {\n",
       "        text-align: right;\n",
       "    }\n",
       "</style>\n",
       "<table border=\"1\" class=\"dataframe\">\n",
       "  <thead>\n",
       "    <tr style=\"text-align: right;\">\n",
       "      <th></th>\n",
       "      <th>Total_Demand 2019 (GWh)</th>\n",
       "    </tr>\n",
       "    <tr>\n",
       "      <th>Distributor</th>\n",
       "      <th></th>\n",
       "    </tr>\n",
       "  </thead>\n",
       "  <tbody>\n",
       "    <tr>\n",
       "      <th>AusNet</th>\n",
       "      <td>3835.008990</td>\n",
       "    </tr>\n",
       "    <tr>\n",
       "      <th>CitiPower</th>\n",
       "      <td>2047.161158</td>\n",
       "    </tr>\n",
       "    <tr>\n",
       "      <th>Jemena</th>\n",
       "      <td>1658.313100</td>\n",
       "    </tr>\n",
       "    <tr>\n",
       "      <th>Powercor</th>\n",
       "      <td>4512.949229</td>\n",
       "    </tr>\n",
       "    <tr>\n",
       "      <th>United</th>\n",
       "      <td>3370.957059</td>\n",
       "    </tr>\n",
       "  </tbody>\n",
       "</table>\n",
       "</div>"
      ],
      "text/plain": [
       "             Total_Demand 2019 (GWh)\n",
       "Distributor                         \n",
       "AusNet                   3835.008990\n",
       "CitiPower                2047.161158\n",
       "Jemena                   1658.313100\n",
       "Powercor                 4512.949229\n",
       "United                   3370.957059"
      ]
     },
     "execution_count": 228,
     "metadata": {},
     "output_type": "execute_result"
    }
   ],
   "source": [
    "\n",
    "annualDemandCat2019DF = demand_df.loc[((demand_df.Measure_Date >= '2018-07-01') & (demand_df.Measure_Date < '2019-07-01'))]\n",
    "demandDBGroupCat2019DF = annualDemandCat2019DF.groupby(['Distributor']).agg({'Business_Demand':'sum','Non_Business_Demand':'sum'})\n",
    "demandDBGroupCat2019DF['Business_Demand'] = demandDBGroupCat2019DF['Business_Demand']/1000000\n",
    "demandDBGroupCat2019DF['Non_Business_Demand'] = demandDBGroupCat2019DF['Non_Business_Demand']/1000000\n",
    "demandDBGroupCat2019DF = demandDBGroupCat2019DF.rename(columns={\"Business_Demand\" : \"Total_Business_Demand (GWh)\",\n",
    "                                                 \"Non_Business_Demand\" : \"Total_Non_Business_Demand (GWh)\"})\n",
    "demandDBGroup2019DF"
   ]
  },
  {
   "cell_type": "code",
   "execution_count": 229,
   "metadata": {},
   "outputs": [
    {
     "data": {
      "text/plain": [
       "<matplotlib.axes._subplots.AxesSubplot at 0x142d896e4a8>"
      ]
     },
     "execution_count": 229,
     "metadata": {},
     "output_type": "execute_result"
    },
    {
     "data": {
      "image/png": "[encoded data removed]",
      "text/plain": [
       "<Figure size 720x360 with 1 Axes>"
      ]
     },
     "metadata": {
      "needs_background": "light"
     },
     "output_type": "display_data"
    }
   ],
   "source": [
    "\n",
    "demandDBGroupCat2019DF.plot(kind='bar', stacked=True , figsize = [10,5], \n",
    "                     title = \"Electricity Demand Based On Category For Distributors in 2019\", grid = True)"
   ]
  },
  {
   "cell_type": "code",
   "execution_count": 230,
   "metadata": {},
   "outputs": [
    {
     "data": {
      "text/html": [
       "<div>\n",
       "<style scoped>\n",
       "    .dataframe tbody tr th:only-of-type {\n",
       "        vertical-align: middle;\n",
       "    }\n",
       "\n",
       "    .dataframe tbody tr th {\n",
       "        vertical-align: top;\n",
       "    }\n",
       "\n",
       "    .dataframe thead th {\n",
       "        text-align: right;\n",
       "    }\n",
       "</style>\n",
       "<table border=\"1\" class=\"dataframe\">\n",
       "  <thead>\n",
       "    <tr style=\"text-align: right;\">\n",
       "      <th></th>\n",
       "      <th>Total_Demand 2015 (GWh)</th>\n",
       "    </tr>\n",
       "    <tr>\n",
       "      <th>Distributor</th>\n",
       "      <th></th>\n",
       "    </tr>\n",
       "  </thead>\n",
       "  <tbody>\n",
       "    <tr>\n",
       "      <th>AusNet</th>\n",
       "      <td>2308.868677</td>\n",
       "    </tr>\n",
       "    <tr>\n",
       "      <th>CitiPower</th>\n",
       "      <td>2043.916803</td>\n",
       "    </tr>\n",
       "    <tr>\n",
       "      <th>Jemena</th>\n",
       "      <td>1599.003993</td>\n",
       "    </tr>\n",
       "    <tr>\n",
       "      <th>Powercor</th>\n",
       "      <td>4373.277561</td>\n",
       "    </tr>\n",
       "    <tr>\n",
       "      <th>United</th>\n",
       "      <td>3323.842901</td>\n",
       "    </tr>\n",
       "  </tbody>\n",
       "</table>\n",
       "</div>"
      ],
      "text/plain": [
       "             Total_Demand 2015 (GWh)\n",
       "Distributor                         \n",
       "AusNet                   2308.868677\n",
       "CitiPower                2043.916803\n",
       "Jemena                   1599.003993\n",
       "Powercor                 4373.277561\n",
       "United                   3323.842901"
      ]
     },
     "execution_count": 230,
     "metadata": {},
     "output_type": "execute_result"
    }
   ],
   "source": [
    "annualDemand2015DF = demand_df.loc[((demand_df.Measure_Date >= '2014-07-01') & (demand_df.Measure_Date < '2015-07-01'))]\n",
    "demandDBGroup2015DF = annualDemand2015DF.groupby(['Distributor']).agg({'Daily_Demand':'sum'}) \n",
    "demandDBGroup2015DF = pd.DataFrame(demandDBGroup2015DF['Daily_Demand']/1000000)\n",
    "demandDBGroup2015DF = demandDBGroup2015DF.rename(columns={\"Daily_Demand\" : \"Total_Demand 2015 (GWh)\"})\n",
    "demandDBGroup2015DF\n"
   ]
  },
  {
   "cell_type": "code",
   "execution_count": 231,
   "metadata": {},
   "outputs": [
    {
     "data": {
      "text/html": [
       "<div>\n",
       "<style scoped>\n",
       "    .dataframe tbody tr th:only-of-type {\n",
       "        vertical-align: middle;\n",
       "    }\n",
       "\n",
       "    .dataframe tbody tr th {\n",
       "        vertical-align: top;\n",
       "    }\n",
       "\n",
       "    .dataframe thead th {\n",
       "        text-align: right;\n",
       "    }\n",
       "</style>\n",
       "<table border=\"1\" class=\"dataframe\">\n",
       "  <thead>\n",
       "    <tr style=\"text-align: right;\">\n",
       "      <th></th>\n",
       "      <th>Distributor</th>\n",
       "      <th>Total_Demand 2015 (GWh)</th>\n",
       "      <th>Total_Demand 2019 (GWh)</th>\n",
       "    </tr>\n",
       "  </thead>\n",
       "  <tbody>\n",
       "    <tr>\n",
       "      <th>0</th>\n",
       "      <td>AusNet</td>\n",
       "      <td>2308.868677</td>\n",
       "      <td>3835.008990</td>\n",
       "    </tr>\n",
       "    <tr>\n",
       "      <th>1</th>\n",
       "      <td>CitiPower</td>\n",
       "      <td>2043.916803</td>\n",
       "      <td>2047.161158</td>\n",
       "    </tr>\n",
       "    <tr>\n",
       "      <th>2</th>\n",
       "      <td>Jemena</td>\n",
       "      <td>1599.003993</td>\n",
       "      <td>1658.313100</td>\n",
       "    </tr>\n",
       "    <tr>\n",
       "      <th>3</th>\n",
       "      <td>Powercor</td>\n",
       "      <td>4373.277561</td>\n",
       "      <td>4512.949229</td>\n",
       "    </tr>\n",
       "    <tr>\n",
       "      <th>4</th>\n",
       "      <td>United</td>\n",
       "      <td>3323.842901</td>\n",
       "      <td>3370.957059</td>\n",
       "    </tr>\n",
       "  </tbody>\n",
       "</table>\n",
       "</div>"
      ],
      "text/plain": [
       "  Distributor  Total_Demand 2015 (GWh)  Total_Demand 2019 (GWh)\n",
       "0      AusNet              2308.868677              3835.008990\n",
       "1   CitiPower              2043.916803              2047.161158\n",
       "2      Jemena              1599.003993              1658.313100\n",
       "3    Powercor              4373.277561              4512.949229\n",
       "4      United              3323.842901              3370.957059"
      ]
     },
     "execution_count": 231,
     "metadata": {},
     "output_type": "execute_result"
    }
   ],
   "source": [
    "demand2015_2019 = demandDBGroup2015DF.merge(demandDBGroup2019DF, left_index=True, right_index=True)\n",
    "demand2015_2019 = demand2015_2019.reset_index()\n",
    "demand2015_2019"
   ]
  },
  {
   "cell_type": "code",
   "execution_count": 237,
   "metadata": {},
   "outputs": [
    {
     "data": {
      "image/png": "[encoded data removed]",
      "text/plain": [
       "<Figure size 720x360 with 1 Axes>"
      ]
     },
     "metadata": {
      "needs_background": "light"
     },
     "output_type": "display_data"
    }
   ],
   "source": [
    "\n",
    "labels = demand2015_2019['Distributor'].to_list()\n",
    "demand2015 = demand2015_2019['Total_Demand 2015 (GWh)'].to_list()\n",
    "demand2019 =  demand2015_2019['Total_Demand 2019 (GWh)'].to_list()\n",
    "\n",
    "x = np.arange(len(labels))  # the label locations\n",
    "width = 0.35  # the width of the bars\n",
    "\n",
    "fig, ax = plt.subplots(figsize = [10,5])\n",
    "rects1 = ax.bar(x - width/2, demand2015, width, label='2015')\n",
    "rects2 = ax.bar(x + width/2, demand2019, width, label='2019')\n",
    "\n",
    "ax.set_ylabel('Electricity Demand GWh')\n",
    "ax.set_title('Electricity Demand For Distributors 2015 vs 2019')\n",
    "ax.set_xticks(x)\n",
    "ax.set_xticklabels(labels)\n",
    "ax.legend()\n",
    "ax.grid()\n",
    "\n",
    "fig.tight_layout()\n",
    "\n",
    "plt.show()"
   ]
  },
  {
   "cell_type": "code",
   "execution_count": null,
   "metadata": {},
   "outputs": [],
   "source": []
  }
 ],
 "metadata": {
  "kernelspec": {
   "display_name": "Python 3",
   "language": "python",
   "name": "python3"
  },
  "language_info": {
   "codemirror_mode": {
    "name": "ipython",
    "version": 3
   },
   "file_extension": ".py",
   "mimetype": "text/x-python",
   "name": "python",
   "nbconvert_exporter": "python",
   "pygments_lexer": "ipython3",
   "version": "3.6.10"
  }
 },
 "nbformat": 4,
 "nbformat_minor": 4
}
