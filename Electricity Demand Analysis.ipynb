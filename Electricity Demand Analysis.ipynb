{
 "cells": [
  {
   "cell_type": "markdown",
   "metadata": {},
   "source": [
    "Business Problem\n",
    "Which geographical areas in Victoria have highest electricity demand and demand growth to define the marketing strategy? \n",
    "\n",
    "1. Using AEMO dataset, considering last 12 months electricity demand, show market share for each Distributor in Pie Charts,\n",
    "-Commercial customer Electricity market share for distributors in 2019 \n",
    "-Residential customer Electricity market share for distributors in 2019 \n",
    "\n",
    "Show in the Map which areas had highest electricity demand in last year. Use different colours to mark different distributor.\n",
    "\n",
    "2. Considering last 5 years data, calculate electricity demand growth percentage of each distributor for Commercial and Residential markets and show in a clustered column bar chart.\n"
   ]
  },
  {
   "cell_type": "code",
   "execution_count": null,
   "metadata": {},
   "outputs": [],
   "source": [
    "import pandas as pd\n",
    "import glob"
   ]
  },
  {
   "cell_type": "code",
   "execution_count": null,
   "metadata": {},
   "outputs": [],
   "source": [
    "# Load all demand data from 2014 to 2019\n",
    "# demand_df = dd.read_csv('Meter data\\VIC_20*.csv')\n",
    "# demand_df.head()\n",
    "\n",
    "dir = 'Meter data/VIC_20*.csv'\n",
    "files = glob.glob(dir)\n",
    "demand_df = pd.DataFrame()\n",
    "for f in files:\n",
    "    df = pd.read_csv(f)\n",
    "    demand_df = demand_df.append(df,ignore_index=True)\n",
    "\n",
    "demand_df.head()    "
   ]
  },
  {
   "cell_type": "code",
   "execution_count": null,
   "metadata": {},
   "outputs": [],
   "source": [
    "# demand_df['SETTD'] = demand_df['SETTD'].astype('datetime64[ns]')\n",
    "demand_df['SETTD'] =  pd.to_datetime(demand_df['SETTD'], format=\"%d/%m/%Y\")\n",
    "demand_df.head()\n"
   ]
  },
  {
   "cell_type": "code",
   "execution_count": null,
   "metadata": {},
   "outputs": [],
   "source": [
    "req_colms = ['DAILYT', 'VAL01', 'VAL02', 'VAL03', 'VAL04', 'VAL05', 'VAL06', 'VAL07', 'VAL08', 'VAL09', 'VAL10', 'VAL11', \n",
    "             'VAL12', 'VAL13', 'VAL14', 'VAL15', 'VAL16', 'VAL17', 'VAL18', 'VAL19', 'VAL20', 'VAL21', 'VAL22', 'VAL23', \n",
    "             'VAL24', 'VAL25', 'VAL26', 'VAL27', 'VAL28','VAL29', 'VAL30', 'VAL31', 'VAL32', 'VAL33', 'VAL34', 'VAL35', \n",
    "             'VAL36','VAL37', 'VAL38', 'VAL39', 'VAL40', 'VAL41', 'VAL42', 'VAL43', 'VAL44','VAL45', 'VAL46', 'VAL47', 'VAL48']\n",
    "\n",
    "demand_df[req_colms] = demand_df[req_colms].astype('float64')\n"
   ]
  },
  {
   "cell_type": "code",
   "execution_count": null,
   "metadata": {},
   "outputs": [],
   "source": [
    "demand_df['Business_Demand'] = 0\n",
    "demand_df['Non_Business_Demand'] = 0\n",
    "\n",
    "for i, dailyDemand in demand_df.iterrows():\n",
    "    d = dailyDemand['SETTD'].weekday()\n",
    "    if((d == 5) or (d == 6)):\n",
    "        demand_df.at[i,'Non_Business_Demand'] = dailyDemand['DAILYT']\n",
    "        demand_df.at[i,'Business_Demand'] = 0\n",
    "    else:\n",
    "        demand_df.at[i,'Business_Demand'] = dailyDemand['VAL15'] + dailyDemand['VAL16'] + dailyDemand['VAL17'] + dailyDemand['VAL18'] + \\\n",
    "        dailyDemand['VAL19'] + dailyDemand['VAL20'] + dailyDemand['VAL21'] + dailyDemand['VAL22'] + dailyDemand['VAL23'] + dailyDemand['VAL24'] + \\\n",
    "        dailyDemand['VAL25'] + dailyDemand['VAL26'] + dailyDemand['VAL27'] + dailyDemand['VAL28'] + dailyDemand['VAL29'] + dailyDemand['VAL30'] + \\\n",
    "        dailyDemand['VAL31'] + dailyDemand['VAL32'] + dailyDemand['VAL33'] + dailyDemand['VAL34']\n",
    "        \n",
    "        demand_df.at[i,'Non_Business_Demand'] = dailyDemand['DAILYT'] - demand_df.at[i,'Business_Demand']\n",
    "\n",
    "demand_df = demand_df[['SETTD','PROFILEAREA','DAILYT','Business_Demand', 'Non_Business_Demand']]\n",
    "demand_df = demand_df.rename(columns={\"SETTD\": \"Measure_Date\", \"PROFILEAREA\": \"Distributor\", \"DAILYT\": \"Daily_Demand\"})\n",
    "demand_df.head(14)"
   ]
  },
  {
   "cell_type": "code",
   "execution_count": null,
   "metadata": {},
   "outputs": [],
   "source": [
    "demand_df.to_csv('Meter data/Demand.csv', encoding='utf-8', index = False)"
   ]
  },
  {
   "cell_type": "code",
   "execution_count": null,
   "metadata": {},
   "outputs": [],
   "source": [
    "# demand_df = pd.DataFrame(demand_df)\n",
    "# demand_df.head()"
   ]
  },
  {
   "cell_type": "code",
   "execution_count": null,
   "metadata": {},
   "outputs": [],
   "source": []
  }
 ],
 "metadata": {
  "kernelspec": {
   "display_name": "Python 3",
   "language": "python",
   "name": "python3"
  },
  "language_info": {
   "codemirror_mode": {
    "name": "ipython",
    "version": 3
   },
   "file_extension": ".py",
   "mimetype": "text/x-python",
   "name": "python",
   "nbconvert_exporter": "python",
   "pygments_lexer": "ipython3",
   "version": "3.6.10"
  }
 },
 "nbformat": 4,
 "nbformat_minor": 4
}
